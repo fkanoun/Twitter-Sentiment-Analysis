{
  "nbformat": 4,
  "nbformat_minor": 0,
  "metadata": {
    "colab": {
      "name": "project2.ipynb",
      "version": "0.3.2",
      "provenance": [],
      "collapsed_sections": [],
      "toc_visible": true
    },
    "kernelspec": {
      "display_name": "Python 3",
      "language": "python",
      "name": "python3"
    },
    "accelerator": "GPU"
  },
  "cells": [
    {
      "metadata": {
        "colab_type": "code",
        "id": "EI-__XxCnyAZ",
        "colab": {}
      },
      "cell_type": "code",
      "source": [
        "import os\n",
        "import matplotlib.pyplot as plt\n",
        "%matplotlib inline\n",
        "import numpy as np\n",
        "import pandas as pd\n",
        "\n",
        "from keras.preprocessing.text import Tokenizer\n",
        "from keras.preprocessing import sequence\n",
        "\n",
        "from keras.models import Sequential\n",
        "from keras.layers import Dense, Flatten, LSTM, Conv1D, MaxPooling1D, Dropout, Activation\n",
        "from keras.layers.embeddings import Embedding\n",
        "\n",
        "import re\n",
        "import nltk\n",
        "from nltk.corpus import wordnet\n",
        "from nltk.corpus import stopwords\n"
      ],
      "execution_count": 0,
      "outputs": []
    },
    {
      "metadata": {
        "colab_type": "code",
        "id": "lODwNtIznyAg",
        "colab": {}
      },
      "cell_type": "code",
      "source": [
        "#data_folder = '/Users/fessiali/Desktop/Text_Classification-master/twitter-datasets'\n",
        " data_folder = './'\n",
        "\n",
        "\n",
        "# Reading the data\n",
        "positive_path = os.path.join(data_folder,'train_pos_full.txt')\n",
        "negative_path = os.path.join(data_folder,'train_neg_full.txt')\n",
        "#positive_path = os.path.join(data_folder,'train_pos.txt')\n",
        "#negative_path = os.path.join(data_folder,'train_neg.txt')"
      ],
      "execution_count": 0,
      "outputs": []
    },
    {
      "metadata": {
        "colab_type": "code",
        "id": "aFXbM7xNnyAj",
        "colab": {}
      },
      "cell_type": "code",
      "source": [
        "lines_positive = [line.rstrip('\\n') for line in open(positive_path)]\n",
        "lines_negative = [line.rstrip('\\n') for line in open(negative_path)]"
      ],
      "execution_count": 0,
      "outputs": []
    },
    {
      "metadata": {
        "colab_type": "text",
        "id": "pgXY0XienyAl"
      },
      "cell_type": "markdown",
      "source": [
        "# Data preparation"
      ]
    },
    {
      "metadata": {
        "colab_type": "text",
        "id": "7rkgBO-LnyAn"
      },
      "cell_type": "markdown",
      "source": [
        "## Create DF"
      ]
    },
    {
      "metadata": {
        "colab_type": "code",
        "id": "sDz8kpq0nyAn",
        "outputId": "49ddb416-d6b1-4f98-e217-4b613378acca",
        "colab": {
          "base_uri": "https://localhost:8080/",
          "height": 204
        }
      },
      "cell_type": "code",
      "source": [
        "# Create dataFrame from positive tweets and give them value 1 as a sentiment\n",
        "data_pos = pd.DataFrame({\"tweets\": lines_positive,\n",
        "                      \"sentiment\":np.ones(len(lines_positive))\n",
        "                      })\n",
        "\n",
        "# Create dataFrame from negative tweets and give them value 0 as a sentiment\n",
        "data_neg = pd.DataFrame({\"tweets\": lines_negative,\n",
        "                      \"sentiment\":np.zeros(len(lines_negative))\n",
        "                      })\n",
        "# Concat both of them\n",
        "data = pd.concat([data_pos,data_neg],axis=0).reset_index().drop(columns=['index'])\n",
        "\n",
        "# Shuffle everything so that we don't have all the positives in one cluster and all the negatives in another\n",
        "data = data.sample(frac=1).reset_index(drop=True)\n",
        "data.head()\n",
        "\n",
        "\n",
        "\n",
        "\n",
        "\n",
        "\n",
        "#Essayer sans poncutation.\n",
        "#"
      ],
      "execution_count": 9,
      "outputs": [
        {
          "output_type": "execute_result",
          "data": {
            "text/html": [
              "<div>\n",
              "<style scoped>\n",
              "    .dataframe tbody tr th:only-of-type {\n",
              "        vertical-align: middle;\n",
              "    }\n",
              "\n",
              "    .dataframe tbody tr th {\n",
              "        vertical-align: top;\n",
              "    }\n",
              "\n",
              "    .dataframe thead th {\n",
              "        text-align: right;\n",
              "    }\n",
              "</style>\n",
              "<table border=\"1\" class=\"dataframe\">\n",
              "  <thead>\n",
              "    <tr style=\"text-align: right;\">\n",
              "      <th></th>\n",
              "      <th>sentiment</th>\n",
              "      <th>tweets</th>\n",
              "    </tr>\n",
              "  </thead>\n",
              "  <tbody>\n",
              "    <tr>\n",
              "      <th>0</th>\n",
              "      <td>1.0</td>\n",
              "      <td>i want rt &lt;user&gt; mango pieces with ice cream &lt;...</td>\n",
              "    </tr>\n",
              "    <tr>\n",
              "      <th>1</th>\n",
              "      <td>1.0</td>\n",
              "      <td>thts cool baby girl , do ya thanng</td>\n",
              "    </tr>\n",
              "    <tr>\n",
              "      <th>2</th>\n",
              "      <td>1.0</td>\n",
              "      <td>&lt;user&gt; can i call yet ?</td>\n",
              "    </tr>\n",
              "    <tr>\n",
              "      <th>3</th>\n",
              "      <td>0.0</td>\n",
              "      <td>good deal : child's toddler white mouse hallow...</td>\n",
              "    </tr>\n",
              "    <tr>\n",
              "      <th>4</th>\n",
              "      <td>0.0</td>\n",
              "      <td>&lt;user&gt; &lt;user&gt; we love you brandon ! ! i told y...</td>\n",
              "    </tr>\n",
              "  </tbody>\n",
              "</table>\n",
              "</div>"
            ],
            "text/plain": [
              "   sentiment                                             tweets\n",
              "0        1.0  i want rt <user> mango pieces with ice cream <...\n",
              "1        1.0                 thts cool baby girl , do ya thanng\n",
              "2        1.0                            <user> can i call yet ?\n",
              "3        0.0  good deal : child's toddler white mouse hallow...\n",
              "4        0.0  <user> <user> we love you brandon ! ! i told y..."
            ]
          },
          "metadata": {
            "tags": []
          },
          "execution_count": 9
        }
      ]
    },
    {
      "metadata": {
        "colab_type": "text",
        "id": "9l5jQ-j6nyAr"
      },
      "cell_type": "markdown",
      "source": [
        "## Clean up the text\n",
        "## !!! Choose which combination of functions to use between these and test !!"
      ]
    },
    {
      "metadata": {
        "id": "I142KS31s6fH",
        "colab_type": "text"
      },
      "cell_type": "markdown",
      "source": [
        "### 1.Remove <anything\\> from tweets."
      ]
    },
    {
      "metadata": {
        "colab_type": "code",
        "id": "rGRDa3zDnyAs",
        "outputId": "13258e48-790b-4fbb-c796-466be2986f7e",
        "colab": {
          "base_uri": "https://localhost:8080/",
          "height": 204
        }
      },
      "cell_type": "code",
      "source": [
        "data['tweets'].replace(regex=True,inplace=True,to_replace=r'<.*?>',value=r'')\n",
        "data.head()"
      ],
      "execution_count": 10,
      "outputs": [
        {
          "output_type": "execute_result",
          "data": {
            "text/html": [
              "<div>\n",
              "<style scoped>\n",
              "    .dataframe tbody tr th:only-of-type {\n",
              "        vertical-align: middle;\n",
              "    }\n",
              "\n",
              "    .dataframe tbody tr th {\n",
              "        vertical-align: top;\n",
              "    }\n",
              "\n",
              "    .dataframe thead th {\n",
              "        text-align: right;\n",
              "    }\n",
              "</style>\n",
              "<table border=\"1\" class=\"dataframe\">\n",
              "  <thead>\n",
              "    <tr style=\"text-align: right;\">\n",
              "      <th></th>\n",
              "      <th>sentiment</th>\n",
              "      <th>tweets</th>\n",
              "    </tr>\n",
              "  </thead>\n",
              "  <tbody>\n",
              "    <tr>\n",
              "      <th>0</th>\n",
              "      <td>1.0</td>\n",
              "      <td>i want rt  mango pieces with ice cream</td>\n",
              "    </tr>\n",
              "    <tr>\n",
              "      <th>1</th>\n",
              "      <td>1.0</td>\n",
              "      <td>thts cool baby girl , do ya thanng</td>\n",
              "    </tr>\n",
              "    <tr>\n",
              "      <th>2</th>\n",
              "      <td>1.0</td>\n",
              "      <td>can i call yet ?</td>\n",
              "    </tr>\n",
              "    <tr>\n",
              "      <th>3</th>\n",
              "      <td>0.0</td>\n",
              "      <td>good deal : child's toddler white mouse hallow...</td>\n",
              "    </tr>\n",
              "    <tr>\n",
              "      <th>4</th>\n",
              "      <td>0.0</td>\n",
              "      <td>we love you brandon ! ! i told you yesterday...</td>\n",
              "    </tr>\n",
              "  </tbody>\n",
              "</table>\n",
              "</div>"
            ],
            "text/plain": [
              "   sentiment                                             tweets\n",
              "0        1.0            i want rt  mango pieces with ice cream \n",
              "1        1.0                 thts cool baby girl , do ya thanng\n",
              "2        1.0                                   can i call yet ?\n",
              "3        0.0  good deal : child's toddler white mouse hallow...\n",
              "4        0.0    we love you brandon ! ! i told you yesterday..."
            ]
          },
          "metadata": {
            "tags": []
          },
          "execution_count": 10
        }
      ]
    },
    {
      "metadata": {
        "id": "ZKDpNaQWs6fM",
        "colab_type": "text"
      },
      "cell_type": "markdown",
      "source": [
        "### 2.Remove numbers from tweets."
      ]
    },
    {
      "metadata": {
        "id": "nmdZuaSDs6fO",
        "colab_type": "code",
        "colab": {}
      },
      "cell_type": "code",
      "source": [
        "def removeNumbers(row):\n",
        "    \"\"\" Removes numbers from a row\"\"\"\n",
        "    text = ''.join([i for i in row if not i.isdigit()])         \n",
        "    return text"
      ],
      "execution_count": 0,
      "outputs": []
    },
    {
      "metadata": {
        "id": "FXjmKFr9s6fR",
        "colab_type": "code",
        "colab": {}
      },
      "cell_type": "code",
      "source": [
        "# to apply function\n",
        "data['tweets'] = data['tweets'].apply(lambda x: removeNumbers(x))"
      ],
      "execution_count": 0,
      "outputs": []
    },
    {
      "metadata": {
        "id": "qVdGkNEts6fW",
        "colab_type": "text"
      },
      "cell_type": "markdown",
      "source": [
        "**Example**"
      ]
    },
    {
      "metadata": {
        "id": "-kFzoWVys6fY",
        "colab_type": "code",
        "outputId": "3e017561-355e-4950-a515-2cb7bd36d502",
        "colab": {
          "base_uri": "https://localhost:8080/",
          "height": 34
        }
      },
      "cell_type": "code",
      "source": [
        "test = \"Give me 5\"\n",
        "print(test,'->',removeNumbers(test))"
      ],
      "execution_count": 0,
      "outputs": [
        {
          "output_type": "stream",
          "text": [
            "Give me 5 -> Give me \n"
          ],
          "name": "stdout"
        }
      ]
    },
    {
      "metadata": {
        "id": "sudw2hxhs6fe",
        "colab_type": "text"
      },
      "cell_type": "markdown",
      "source": [
        "### 3.Replace multiple punctuations with words"
      ]
    },
    {
      "metadata": {
        "id": "fM0W-6hps6fg",
        "colab_type": "code",
        "colab": {}
      },
      "cell_type": "code",
      "source": [
        "def replaceMultiExclamationMark(x):\n",
        "    \"\"\" Replaces repetitions of exclamation marks by the word 'multiexclamation' \"\"\"\n",
        "    x = re.sub(r\"(\\!)\\1+\", ' multiexclamation ', x)\n",
        "    return x\n",
        "\n",
        "def replaceMultiQuestionMark(x):\n",
        "    \"\"\" Replaces repetitions of question marks by the word 'multiquestion' \"\"\"\n",
        "    x = re.sub(r\"(\\?)\\1+\", ' multiquestion ', x)\n",
        "    return x\n",
        "\n",
        "def replaceMultiStopMark(x):\n",
        "    \"\"\" Replaces repetitions of stop marks by the word 'multistop' \"\"\"\n",
        "    x = re.sub(r\"(\\.)\\1+\", ' multistop ', x)\n",
        "    return x\n",
        "\n",
        "def replace_every_punctuation(x):\n",
        "    return replaceMultiExclamationMark(replaceMultiQuestionMark(replaceMultiStopMark(x)))\n",
        "    "
      ],
      "execution_count": 0,
      "outputs": []
    },
    {
      "metadata": {
        "id": "SfmQ75yts6fj",
        "colab_type": "code",
        "colab": {
          "base_uri": "https://localhost:8080/",
          "height": 164
        },
        "outputId": "ab39ff12-4b9f-45bd-ecb2-f66afc6c37a7"
      },
      "cell_type": "code",
      "source": [
        "# To use\n",
        "data['tweets'] = data['tweets'].apply(lambda x: replace_every_punctuation(x))"
      ],
      "execution_count": 5,
      "outputs": [
        {
          "output_type": "error",
          "ename": "NameError",
          "evalue": "ignored",
          "traceback": [
            "\u001b[0;31m---------------------------------------------------------------------------\u001b[0m",
            "\u001b[0;31mNameError\u001b[0m                                 Traceback (most recent call last)",
            "\u001b[0;32m<ipython-input-5-1d6090a7819e>\u001b[0m in \u001b[0;36m<module>\u001b[0;34m()\u001b[0m\n\u001b[0;32m----> 1\u001b[0;31m \u001b[0mdata\u001b[0m\u001b[0;34m[\u001b[0m\u001b[0;34m'tweets'\u001b[0m\u001b[0;34m]\u001b[0m \u001b[0;34m=\u001b[0m \u001b[0mdata\u001b[0m\u001b[0;34m[\u001b[0m\u001b[0;34m'tweets'\u001b[0m\u001b[0;34m]\u001b[0m\u001b[0;34m.\u001b[0m\u001b[0mapply\u001b[0m\u001b[0;34m(\u001b[0m\u001b[0;32mlambda\u001b[0m \u001b[0mx\u001b[0m\u001b[0;34m:\u001b[0m \u001b[0mreplace_every_punctuation\u001b[0m\u001b[0;34m(\u001b[0m\u001b[0mx\u001b[0m\u001b[0;34m)\u001b[0m\u001b[0;34m)\u001b[0m\u001b[0;34m\u001b[0m\u001b[0;34m\u001b[0m\u001b[0m\n\u001b[0m",
            "\u001b[0;31mNameError\u001b[0m: name 'data' is not defined"
          ]
        }
      ]
    },
    {
      "metadata": {
        "id": "-F-aFpd7s6fn",
        "colab_type": "text"
      },
      "cell_type": "markdown",
      "source": [
        "### Example"
      ]
    },
    {
      "metadata": {
        "id": "JAyJkcaRs6fp",
        "colab_type": "code",
        "outputId": "af8e028b-d3e6-4acd-b9e1-edd8ac498711",
        "colab": {
          "base_uri": "https://localhost:8080/",
          "height": 34
        }
      },
      "cell_type": "code",
      "source": [
        "test = \"Give ... me 5 ??? please !!!\"\n",
        "print(test,'->',replace_every_punctuation(test))"
      ],
      "execution_count": 0,
      "outputs": [
        {
          "output_type": "stream",
          "text": [
            "Give ... me 5 ??? please !!! -> Give  multistop  me 5  multiquestion  please  multiexclamation \n"
          ],
          "name": "stdout"
        }
      ]
    },
    {
      "metadata": {
        "id": "LRT-W4jds6ft",
        "colab_type": "text"
      },
      "cell_type": "markdown",
      "source": [
        "### 4.Replace Contractions"
      ]
    },
    {
      "metadata": {
        "id": "nXbLB99Js6fv",
        "colab_type": "code",
        "colab": {}
      },
      "cell_type": "code",
      "source": [
        "# Found on the internet\n",
        "contraction_patterns = [\n",
        "    (r'won\\'t', 'will not'),\n",
        "    (r'can\\'t', 'cannot'),\n",
        "    (r'i\\'m', 'i am'),\n",
        "    (r'ain\\'t', 'is not'),\n",
        "    (r'(\\w+)\\'ll', '\\g<1> will'),\n",
        "    (r'(\\w+)n\\'t', '\\g<1> not'),\n",
        "    (r'(\\w+)\\'ve', '\\g<1> have'),\n",
        "    (r'(\\w+)\\'s', '\\g<1> is'),\n",
        "    (r'(\\w+)\\'re', '\\g<1> are'),\n",
        "    (r'(\\w+)\\'d', '\\g<1> would'),\n",
        "    (r'&', 'and'),\n",
        "    (r'dammit', 'damn it'),\n",
        "    (r'dont', 'do not'),\n",
        "    (r'wont', 'will not'),\n",
        "    ]"
      ],
      "execution_count": 0,
      "outputs": []
    },
    {
      "metadata": {
        "id": "cjpmC8uLs6fz",
        "colab_type": "code",
        "colab": {}
      },
      "cell_type": "code",
      "source": [
        "def replace_contractions(x):\n",
        "    \"\"\"Replaces contractions by the corresponding text in the pattern\"\"\"\n",
        "    patterns = [(re.compile(regex_exp), replacement) for (regex_exp, replacement) in contraction_patterns]\n",
        "    for (pattern, replacement) in patterns:\n",
        "        (x, _) = re.subn(pattern, replacement, x)\n",
        "    return x"
      ],
      "execution_count": 0,
      "outputs": []
    },
    {
      "metadata": {
        "scrolled": true,
        "id": "Iz0WjAPDs6f7",
        "colab_type": "code",
        "colab": {}
      },
      "cell_type": "code",
      "source": [
        "# to use\n",
        "data['tweets'] = data['tweets'].apply(lambda x: replace_contractions(x))"
      ],
      "execution_count": 0,
      "outputs": []
    },
    {
      "metadata": {
        "id": "9GxIwCx3s6gD",
        "colab_type": "text"
      },
      "cell_type": "markdown",
      "source": [
        "### Example"
      ]
    },
    {
      "metadata": {
        "id": "EpEXXokys6gE",
        "colab_type": "code",
        "outputId": "ab7e1bbe-e1e0-45db-cce9-613fcc2cf572",
        "colab": {
          "base_uri": "https://localhost:8080/",
          "height": 34
        }
      },
      "cell_type": "code",
      "source": [
        "test = \"I'll help you\"\n",
        "print(test,'->',replace_contractions(test))"
      ],
      "execution_count": 0,
      "outputs": [
        {
          "output_type": "stream",
          "text": [
            "I'll help you -> I will help you\n"
          ],
          "name": "stdout"
        }
      ]
    },
    {
      "metadata": {
        "id": "E-hX-Orws6gI",
        "colab_type": "text"
      },
      "cell_type": "markdown",
      "source": [
        "### 5.Replace Negations with Antonyms"
      ]
    },
    {
      "metadata": {
        "id": "beOlC5oes6gJ",
        "colab_type": "code",
        "outputId": "4d38d213-e5ab-4d70-ffbd-e53921aabebb",
        "colab": {
          "base_uri": "https://localhost:8080/",
          "height": 85
        }
      },
      "cell_type": "code",
      "source": [
        "nltk.download('punkt')\n",
        "nltk.download('wordnet')\n",
        "\n",
        "def replace(word):\n",
        "    \"\"\" Creates a set of all antonyms for the word and if there is only one antonym, it returns it \"\"\"\n",
        "    antonyms = set()\n",
        "    for syn in wordnet.synsets(word):\n",
        "        for lemma in syn.lemmas():\n",
        "            for antonym in lemma.antonyms():\n",
        "                antonyms.add(antonym.name())\n",
        "    if len(antonyms) == 1:\n",
        "        return antonyms.pop()\n",
        "    else:\n",
        "        return None\n",
        "\n",
        "def replaceNegations(text):\n",
        "    \"\"\" Finds \"not\" and antonym for the next word and if found, replaces not and the next word with the antonym \"\"\"\n",
        "    i= 0\n",
        "    length = len(text)\n",
        "    words = []\n",
        "    while i < length:\n",
        "        word = text[i]\n",
        "        if word == 'not' and i+1 < length:\n",
        "            ant = replace(text[i+1])\n",
        "            if ant:\n",
        "                words.append(ant)\n",
        "                i += 2\n",
        "                continue\n",
        "        words.append(word)\n",
        "        i += 1\n",
        "    return words\n",
        "\n",
        "def custom_tokenize_and_replace_negation(x):\n",
        "    tokens = nltk.word_tokenize(x)\n",
        "    tokens = replaceNegations(tokens)\n",
        "    x = \" \".join(tokens)\n",
        "    return x"
      ],
      "execution_count": 0,
      "outputs": [
        {
          "output_type": "stream",
          "text": [
            "[nltk_data] Downloading package punkt to /root/nltk_data...\n",
            "[nltk_data]   Package punkt is already up-to-date!\n",
            "[nltk_data] Downloading package wordnet to /root/nltk_data...\n",
            "[nltk_data]   Package wordnet is already up-to-date!\n"
          ],
          "name": "stdout"
        }
      ]
    },
    {
      "metadata": {
        "scrolled": true,
        "id": "U9tXfFDus6gR",
        "colab_type": "code",
        "outputId": "74f0567b-476e-4838-dd02-d1114507d310",
        "colab": {
          "base_uri": "https://localhost:8080/",
          "height": 204
        }
      },
      "cell_type": "code",
      "source": [
        "# to use\n",
        "data['tweets'] = data['tweets'].apply(lambda x: custom_tokenize_and_replace_negation(x))\n",
        "data.head()"
      ],
      "execution_count": 0,
      "outputs": [
        {
          "output_type": "execute_result",
          "data": {
            "text/html": [
              "<div>\n",
              "<style scoped>\n",
              "    .dataframe tbody tr th:only-of-type {\n",
              "        vertical-align: middle;\n",
              "    }\n",
              "\n",
              "    .dataframe tbody tr th {\n",
              "        vertical-align: top;\n",
              "    }\n",
              "\n",
              "    .dataframe thead th {\n",
              "        text-align: right;\n",
              "    }\n",
              "</style>\n",
              "<table border=\"1\" class=\"dataframe\">\n",
              "  <thead>\n",
              "    <tr style=\"text-align: right;\">\n",
              "      <th></th>\n",
              "      <th>sentiment</th>\n",
              "      <th>tweets</th>\n",
              "    </tr>\n",
              "  </thead>\n",
              "  <tbody>\n",
              "    <tr>\n",
              "      <th>0</th>\n",
              "      <td>1.0</td>\n",
              "      <td>stops by cause i am looking for my salt , smil...</td>\n",
              "    </tr>\n",
              "    <tr>\n",
              "      <th>1</th>\n",
              "      <td>1.0</td>\n",
              "      <td># ifindthatattractive girls that take there ti...</td>\n",
              "    </tr>\n",
              "    <tr>\n",
              "      <th>2</th>\n",
              "      <td>0.0</td>\n",
              "      <td>i love this song so much ! -- &gt; bromance ( off...</td>\n",
              "    </tr>\n",
              "    <tr>\n",
              "      <th>3</th>\n",
              "      <td>1.0</td>\n",
              "      <td>&lt; user &gt; haha ya except you and a few others</td>\n",
              "    </tr>\n",
              "    <tr>\n",
              "      <th>4</th>\n",
              "      <td>0.0</td>\n",
              "      <td>why is there school today ! !</td>\n",
              "    </tr>\n",
              "  </tbody>\n",
              "</table>\n",
              "</div>"
            ],
            "text/plain": [
              "   sentiment                                             tweets\n",
              "0        1.0  stops by cause i am looking for my salt , smil...\n",
              "1        1.0  # ifindthatattractive girls that take there ti...\n",
              "2        0.0  i love this song so much ! -- > bromance ( off...\n",
              "3        1.0       < user > haha ya except you and a few others\n",
              "4        0.0                      why is there school today ! !"
            ]
          },
          "metadata": {
            "tags": []
          },
          "execution_count": 15
        }
      ]
    },
    {
      "metadata": {
        "id": "cILZodNls6gV",
        "colab_type": "text"
      },
      "cell_type": "markdown",
      "source": [
        "### Example"
      ]
    },
    {
      "metadata": {
        "id": "QyowqBFSs6gX",
        "colab_type": "code",
        "outputId": "8feeb54a-8cba-4025-bca4-57388aaa13ab",
        "colab": {
          "base_uri": "https://localhost:8080/",
          "height": 34
        }
      },
      "cell_type": "code",
      "source": [
        "test = \"I am not happy\"\n",
        "print(test,'->',custom_tokenize_and_replace_negation(test))"
      ],
      "execution_count": 0,
      "outputs": [
        {
          "output_type": "stream",
          "text": [
            "I am not happy -> I am unhappy\n"
          ],
          "name": "stdout"
        }
      ]
    },
    {
      "metadata": {
        "id": "pTTlg9ves6ga",
        "colab_type": "text"
      },
      "cell_type": "markdown",
      "source": [
        "### 6.Capital words"
      ]
    },
    {
      "metadata": {
        "id": "BPCSGvRIs6gc",
        "colab_type": "code",
        "colab": {}
      },
      "cell_type": "code",
      "source": [
        "def addCapTag(x):\n",
        "    \"\"\" Finds a word with at least 3 characters capitalized and adds the tag ALL_CAPS_ \"\"\"\n",
        "    if(len(re.findall(\"[A-Z]{3,}\", x))):\n",
        "        x = x.replace('\\\\', '' )\n",
        "        transformed = re.sub(\"[A-Z]{3,}\", \"ALL_CAPS_\"+x, x)\n",
        "        return transformed\n",
        "    else:\n",
        "        return x\n",
        "\n",
        "def custom_tokenize_and_replace_caps(x):\n",
        "    finalTokens = []\n",
        "    tokens = nltk.word_tokenize(x)\n",
        "    for w in tokens:\n",
        "        finalTokens.append(addCapTag(w))\n",
        "    x = \" \".join(finalTokens)\n",
        "    return x"
      ],
      "execution_count": 0,
      "outputs": []
    },
    {
      "metadata": {
        "id": "DVS2bZohs6gd",
        "colab_type": "text"
      },
      "cell_type": "markdown",
      "source": [
        "**Example**"
      ]
    },
    {
      "metadata": {
        "id": "wMDH8aSns6gg",
        "colab_type": "code",
        "outputId": "e0ce0477-8669-4931-b9c7-22471dd2a362",
        "colab": {
          "base_uri": "https://localhost:8080/",
          "height": 34
        }
      },
      "cell_type": "code",
      "source": [
        "test = \"HELLO how is it going ?\"\n",
        "print(test,'->',custom_tokenize_and_replace_caps(test))"
      ],
      "execution_count": 0,
      "outputs": [
        {
          "output_type": "stream",
          "text": [
            "HELLO how is it going ? -> ALL_CAPS_HELLO how is it going ?\n"
          ],
          "name": "stdout"
        }
      ]
    },
    {
      "metadata": {
        "id": "lWnSIP8xs6gl",
        "colab_type": "text"
      },
      "cell_type": "markdown",
      "source": [
        "### 7.Remove stopwords"
      ]
    },
    {
      "metadata": {
        "id": "byrJziDJs6gl",
        "colab_type": "code",
        "outputId": "06b922f4-70b7-492a-f1f7-0926c90fa8f6",
        "colab": {
          "base_uri": "https://localhost:8080/",
          "height": 51
        }
      },
      "cell_type": "code",
      "source": [
        "nltk.download('stopwords')\n",
        "stoplist = stopwords.words('english')\n",
        "def remove_stopwords(x):\n",
        "    finalTokens = []\n",
        "    tokens = nltk.word_tokenize(x)\n",
        "    for w in tokens:\n",
        "        if (w not in stoplist):\n",
        "            finalTokens.append(w)\n",
        "    result = \" \".join(finalTokens)\n",
        "    return result"
      ],
      "execution_count": 0,
      "outputs": [
        {
          "output_type": "stream",
          "text": [
            "[nltk_data] Downloading package stopwords to /root/nltk_data...\n",
            "[nltk_data]   Package stopwords is already up-to-date!\n"
          ],
          "name": "stdout"
        }
      ]
    },
    {
      "metadata": {
        "id": "GJws2OYJs6gr",
        "colab_type": "text"
      },
      "cell_type": "markdown",
      "source": [
        "**Example**"
      ]
    },
    {
      "metadata": {
        "id": "jxe5Cqq8s6gs",
        "colab_type": "code",
        "outputId": "8a23a369-2275-4242-f439-9c7d7faaaaf1",
        "colab": {
          "base_uri": "https://localhost:8080/",
          "height": 34
        }
      },
      "cell_type": "code",
      "source": [
        "test = \"Do you have an umbrella ?\"\n",
        "print(test,'->',remove_stopwords(test))"
      ],
      "execution_count": 0,
      "outputs": [
        {
          "output_type": "stream",
          "text": [
            "Do you have an umbrella ? -> Do umbrella ?\n"
          ],
          "name": "stdout"
        }
      ]
    },
    {
      "metadata": {
        "id": "RYxp5m1is6gv",
        "colab_type": "text"
      },
      "cell_type": "markdown",
      "source": [
        "### 8.Replace elongated words"
      ]
    },
    {
      "metadata": {
        "id": "btvVi3yIs6gw",
        "colab_type": "code",
        "colab": {}
      },
      "cell_type": "code",
      "source": [
        "def replace_elongated(word):\n",
        "    \"\"\" If the word is in the dictionary, keep it\n",
        "        Else reduces the repetition of letters in it \"\"\"\n",
        "\n",
        "    repeat_regexp = re.compile(r'(\\w*)(\\w)\\2(\\w*)')\n",
        "    repl = r'\\1\\2\\3'\n",
        "    if wordnet.synsets(word):\n",
        "        return word\n",
        "    repl_word = repeat_regexp.sub(repl, word)\n",
        "    if repl_word != word:      \n",
        "        return replace_elongated(repl_word)\n",
        "    else:       \n",
        "        return repl_word\n",
        "    \n",
        "def replace_elongated_words(x):\n",
        "    finalTokens = []\n",
        "    tokens = nltk.word_tokenize(x)\n",
        "    for w in tokens:\n",
        "        finalTokens.append(replace_elongated(w))\n",
        "    result = \" \".join(finalTokens)\n",
        "    return result"
      ],
      "execution_count": 0,
      "outputs": []
    },
    {
      "metadata": {
        "id": "IYbumF2Us6g2",
        "colab_type": "text"
      },
      "cell_type": "markdown",
      "source": [
        "**Example**"
      ]
    },
    {
      "metadata": {
        "id": "2kyg2jKJs6g3",
        "colab_type": "code",
        "colab": {}
      },
      "cell_type": "code",
      "source": [
        "!pip install -q gensim"
      ],
      "execution_count": 0,
      "outputs": []
    },
    {
      "metadata": {
        "id": "xqqcuJK-1eJz",
        "colab_type": "text"
      },
      "cell_type": "markdown",
      "source": [
        "## **II.Using Wor2Vec( Au lieu du neural network Passer cette etape si vous allez utiliser le NN) ** (I)"
      ]
    },
    {
      "metadata": {
        "id": "0CC2ScZ_1wG-",
        "colab_type": "code",
        "colab": {}
      },
      "cell_type": "code",
      "source": [
        "import gensim \n",
        "from sklearn.pipeline import Pipeline\n",
        "from sklearn.ensemble import ExtraTreesClassifier\n",
        "X = data['tweets'].tolist()\n",
        "y =  data['sentiment'].tolist()\n",
        "model = gensim.models.Word2Vec(X, size=1000)"
      ],
      "execution_count": 0,
      "outputs": []
    },
    {
      "metadata": {
        "id": "-RZFxOzY8mbv",
        "colab_type": "code",
        "colab": {
          "base_uri": "https://localhost:8080/",
          "height": 71
        },
        "outputId": "45fd6beb-d801-49ab-d907-f6a8b8a63b70"
      },
      "cell_type": "code",
      "source": [
        "w2v = dict(zip(model.wv.index2word, model.wv.syn0))"
      ],
      "execution_count": 28,
      "outputs": [
        {
          "output_type": "stream",
          "text": [
            "/usr/local/lib/python3.6/dist-packages/ipykernel_launcher.py:1: DeprecationWarning: Call to deprecated `syn0` (Attribute will be removed in 4.0.0, use self.wv.vectors instead).\n",
            "  \"\"\"Entry point for launching an IPython kernel.\n"
          ],
          "name": "stderr"
        }
      ]
    },
    {
      "metadata": {
        "id": "MPW6lmnq8dNu",
        "colab_type": "code",
        "colab": {}
      },
      "cell_type": "code",
      "source": [
        "from sklearn.feature_extraction.text import TfidfVectorizer\n",
        "class TfidfEmbeddingVectorizer(object):\n",
        "    def __init__(self, word2vec):\n",
        "        self.word2vec = word2vec\n",
        "        self.word2weight = None\n",
        "        self.dim = len(word2vec.values())\n",
        "\n",
        "    def fit(self, X, y):\n",
        "        tfidf = TfidfVectorizer(analyzer=lambda x: x)\n",
        "        tfidf.fit(X)\n",
        "        # if a word was never seen - it must be at least as infrequent\n",
        "        # as any of the known words - so the default idf is the max of \n",
        "        # known idf's\n",
        "        max_idf = max(tfidf.idf_)\n",
        "        self.word2weight = defaultdict(\n",
        "            lambda: max_idf,\n",
        "            [(w, tfidf.idf_[i]) for w, i in tfidf.vocabulary_.items()])\n",
        "\n",
        "        return self\n",
        "\n",
        "    def transform(self, X):\n",
        "        return np.array([\n",
        "                np.mean([self.word2vec[w] * self.word2weight[w]\n",
        "                         for w in words if w in self.word2vec] or\n",
        "                        [np.zeros(self.dim)], axis=0)\n",
        "                for words in X\n",
        "            ])"
      ],
      "execution_count": 0,
      "outputs": []
    },
    {
      "metadata": {
        "id": "pCXARvNu8frM",
        "colab_type": "code",
        "colab": {}
      },
      "cell_type": "code",
      "source": [
        "etree_w2v_tfidf = Pipeline([\n",
        "    (\"word2vec vectorizer\", TfidfEmbeddingVectorizer(w2v)),\n",
        "    (\"extra trees\", ExtraTreesClassifier(n_estimators=2))])"
      ],
      "execution_count": 0,
      "outputs": []
    },
    {
      "metadata": {
        "id": "qxY0yFyJGZuY",
        "colab_type": "code",
        "colab": {}
      },
      "cell_type": "code",
      "source": [
        "X_train, X_test, y_train, y_test = train_test_split(X, y, test_size=0.2, random_state=42)"
      ],
      "execution_count": 0,
      "outputs": []
    },
    {
      "metadata": {
        "id": "piDb2E5JCm8-",
        "colab_type": "code",
        "colab": {}
      },
      "cell_type": "code",
      "source": [
        "from collections import defaultdict\n",
        "etree_w2v_tfidf.fit(X_train,y_train)"
      ],
      "execution_count": 0,
      "outputs": []
    },
    {
      "metadata": {
        "id": "pw7TwMXqGR9O",
        "colab_type": "code",
        "colab": {
          "base_uri": "https://localhost:8080/",
          "height": 181
        },
        "outputId": "d508e516-3257-4a63-bf61-a94db10deb4f"
      },
      "cell_type": "code",
      "source": [
        "\n",
        "etree_w2v_tfidf.prediit(X_test)"
      ],
      "execution_count": 1,
      "outputs": [
        {
          "output_type": "error",
          "ename": "NameError",
          "evalue": "ignored",
          "traceback": [
            "\u001b[0;31m---------------------------------------------------------------------------\u001b[0m",
            "\u001b[0;31mNameError\u001b[0m                                 Traceback (most recent call last)",
            "\u001b[0;32m<ipython-input-1-b50f8ca5bce8>\u001b[0m in \u001b[0;36m<module>\u001b[0;34m()\u001b[0m\n\u001b[1;32m      1\u001b[0m \u001b[0;34m\u001b[0m\u001b[0m\n\u001b[0;32m----> 2\u001b[0;31m \u001b[0metree_w2v_tfidf\u001b[0m\u001b[0;34m.\u001b[0m\u001b[0mprediit\u001b[0m\u001b[0;34m(\u001b[0m\u001b[0mX_test\u001b[0m\u001b[0;34m)\u001b[0m\u001b[0;34m\u001b[0m\u001b[0;34m\u001b[0m\u001b[0m\n\u001b[0m",
            "\u001b[0;31mNameError\u001b[0m: name 'etree_w2v_tfidf' is not defined"
          ]
        }
      ]
    },
    {
      "metadata": {
        "id": "tJaM0NwIs6g8",
        "colab_type": "text"
      },
      "cell_type": "markdown",
      "source": [
        "### Split to tweets and sentiments."
      ]
    },
    {
      "metadata": {
        "colab_type": "code",
        "id": "FyRzwQBKnyAu",
        "colab": {}
      },
      "cell_type": "code",
      "source": [
        "X = data['tweets'].tolist()\n",
        "y =  data['sentiment'].tolist()"
      ],
      "execution_count": 0,
      "outputs": []
    },
    {
      "metadata": {
        "colab_type": "text",
        "id": "UMjhi3-wnyAy"
      },
      "cell_type": "markdown",
      "source": [
        "## Use tokenizer\n",
        "### From words to numbers"
      ]
    },
    {
      "metadata": {
        "colab_type": "code",
        "id": "_OTXFFPDnyA0",
        "colab": {}
      },
      "cell_type": "code",
      "source": [
        "# map words to numbers\n",
        "vocab_size = 100000\n",
        "tokenizer = Tokenizer(num_words=vocab_size)\n",
        "tokenizer.fit_on_texts(X)"
      ],
      "execution_count": 0,
      "outputs": []
    },
    {
      "metadata": {
        "colab_type": "code",
        "id": "qNXNu_mgnyA3",
        "outputId": "9ddd4440-fd68-4719-b26e-b706265cc09e",
        "colab": {
          "base_uri": "https://localhost:8080/",
          "height": 34
        }
      },
      "cell_type": "code",
      "source": [
        "num_words = len(tokenizer.word_index)\n",
        "num_words"
      ],
      "execution_count": 13,
      "outputs": [
        {
          "output_type": "execute_result",
          "data": {
            "text/plain": [
              "507952"
            ]
          },
          "metadata": {
            "tags": []
          },
          "execution_count": 13
        }
      ]
    },
    {
      "metadata": {
        "colab_type": "code",
        "id": "pdKLhlKLnyA_",
        "colab": {}
      },
      "cell_type": "code",
      "source": [
        "data['length'] = data['tweets'].str.split().apply(len)\n",
        "max_tokens = data['length'].max()\n",
        "max_tokens = int(max_tokens/2)\n",
        "\n",
        "X = np.array(sequence.pad_sequences(tokenizer.texts_to_sequences(X), maxlen=max_tokens, padding='pre'))\n",
        "\n",
        "# Split train test\n",
        "from sklearn.model_selection import train_test_split\n",
        "X_train, X_test, y_train, y_test = train_test_split(X, y, test_size=0.2, random_state=42)\n"
      ],
      "execution_count": 0,
      "outputs": []
    },
    {
      "metadata": {
        "colab_type": "text",
        "id": "gbpTZCZ7nyBP"
      },
      "cell_type": "markdown",
      "source": [
        "### From numbers to words"
      ]
    },
    {
      "metadata": {
        "colab_type": "code",
        "id": "Dvlgrqg4nyBQ",
        "colab": {}
      },
      "cell_type": "code",
      "source": [
        "def numbers_to_string(number_array, tokenizer):\n",
        "    \n",
        "    ''' \n",
        "    Transforms tokens to words\n",
        "    :param number_array: The numbers array to transform\n",
        "    :param tokenizer: The tokenizer used\n",
        "\n",
        "    :return: the original text\n",
        "    :rtype: String\n",
        "    '''\n",
        "        \n",
        "    indices = tokenizer.word_index\n",
        "    # Create a dict that mapes numbers to their respective words\n",
        "    inverse_map = dict(zip(indices.values(), indices.keys()))\n",
        "        \n",
        "    # Maps the numbers back to words.\n",
        "    words = []\n",
        "    for number in number_array:\n",
        "        if number != 0: # !=0 is to remove the padding\n",
        "            words.append(inverse_map[number])\n",
        "    \n",
        "    # Concatenate all words.\n",
        "    text = \" \".join(words)\n",
        "\n",
        "    return text"
      ],
      "execution_count": 0,
      "outputs": []
    },
    {
      "metadata": {
        "colab_type": "code",
        "id": "oWa8epd1nyBV",
        "outputId": "1e9a4774-7ab6-449f-f7a4-3cd461555e51",
        "colab": {
          "base_uri": "https://localhost:8080/",
          "height": 34
        }
      },
      "cell_type": "code",
      "source": [
        "numbers_to_string(X_train[0],tokenizer)"
      ],
      "execution_count": 16,
      "outputs": [
        {
          "output_type": "execute_result",
          "data": {
            "text/plain": [
              "'i be saying goodmorning too the ppl i like know something to mee if youu aa cutie'"
            ]
          },
          "metadata": {
            "tags": []
          },
          "execution_count": 16
        }
      ]
    },
    {
      "metadata": {
        "colab_type": "text",
        "id": "A3J-Vy2YnyBa"
      },
      "cell_type": "markdown",
      "source": [
        "# Neural Network"
      ]
    },
    {
      "metadata": {
        "colab_type": "code",
        "id": "IrFZSBwx-fTj",
        "colab": {}
      },
      "cell_type": "code",
      "source": [
        "from keras.callbacks import ModelCheckpoint"
      ],
      "execution_count": 0,
      "outputs": []
    },
    {
      "metadata": {
        "colab_type": "code",
        "id": "Kbk-udEWnyBc",
        "outputId": "9e23b243-d1ca-46f5-bd5a-56f4ff007325",
        "colab": {
          "base_uri": "https://localhost:8080/",
          "height": 802
        }
      },
      "cell_type": "code",
      "source": [
        "model = Sequential()\n",
        "\n",
        "model.add(Embedding(num_words, 32, input_length=max_tokens))\n",
        "model.add(Conv1D(filters=128, kernel_size=5, padding='same', activation='relu'))\n",
        "model.add(MaxPooling1D(pool_size=2))\n",
        "model.add(Dropout(0.2))\n",
        "model.add(Conv1D(filters=64, kernel_size=6, padding='same', activation='relu'))\n",
        "model.add(MaxPooling1D(pool_size=2))\n",
        "model.add(Dropout(0.2))\n",
        "model.add(Conv1D(filters=32, kernel_size=7, padding='same', activation='relu'))\n",
        "model.add(MaxPooling1D(pool_size=2))\n",
        "model.add(Dropout(0.2))\n",
        "model.add(Conv1D(filters=32, kernel_size=8, padding='same', activation='relu'))\n",
        "model.add(MaxPooling1D(pool_size=2))\n",
        "model.add(Dropout(0.2))\n",
        "model.add(Flatten())\n",
        "model.add(Dense(1,activation='sigmoid'))\n",
        "\n",
        "model.compile(loss='binary_crossentropy', optimizer='Adam', metrics=['accuracy'])\n",
        "model.summary()\n",
        "\n",
        "# Saves the model after each epoch to study overfitting and optimal epochs\n",
        "checkpointer = ModelCheckpoint('weights.{epoch:01d}.hdf5', monitor='val_loss', verbose=0, save_best_only=True, save_weights_only=False, mode='auto', period=1)\n",
        "\n",
        "epochs = 2\n",
        "\n",
        "history = model.fit(X_train, y_train, batch_size=250, verbose=1, validation_split=0.20, epochs=epochs, callbacks=[checkpointer])\n",
        "scores = model.evaluate(X_test, y_test)\n",
        "print(\"\\n%s: %.2f%%\" % (model.metrics_names[1], scores[1]*100))"
      ],
      "execution_count": 18,
      "outputs": [
        {
          "output_type": "stream",
          "text": [
            "_________________________________________________________________\n",
            "Layer (type)                 Output Shape              Param #   \n",
            "=================================================================\n",
            "embedding_1 (Embedding)      (None, 63, 32)            16254464  \n",
            "_________________________________________________________________\n",
            "conv1d_1 (Conv1D)            (None, 63, 128)           20608     \n",
            "_________________________________________________________________\n",
            "max_pooling1d_1 (MaxPooling1 (None, 31, 128)           0         \n",
            "_________________________________________________________________\n",
            "dropout_1 (Dropout)          (None, 31, 128)           0         \n",
            "_________________________________________________________________\n",
            "conv1d_2 (Conv1D)            (None, 31, 64)            49216     \n",
            "_________________________________________________________________\n",
            "max_pooling1d_2 (MaxPooling1 (None, 15, 64)            0         \n",
            "_________________________________________________________________\n",
            "dropout_2 (Dropout)          (None, 15, 64)            0         \n",
            "_________________________________________________________________\n",
            "conv1d_3 (Conv1D)            (None, 15, 32)            14368     \n",
            "_________________________________________________________________\n",
            "max_pooling1d_3 (MaxPooling1 (None, 7, 32)             0         \n",
            "_________________________________________________________________\n",
            "dropout_3 (Dropout)          (None, 7, 32)             0         \n",
            "_________________________________________________________________\n",
            "conv1d_4 (Conv1D)            (None, 7, 32)             8224      \n",
            "_________________________________________________________________\n",
            "max_pooling1d_4 (MaxPooling1 (None, 3, 32)             0         \n",
            "_________________________________________________________________\n",
            "dropout_4 (Dropout)          (None, 3, 32)             0         \n",
            "_________________________________________________________________\n",
            "flatten_1 (Flatten)          (None, 96)                0         \n",
            "_________________________________________________________________\n",
            "dense_1 (Dense)              (None, 1)                 97        \n",
            "=================================================================\n",
            "Total params: 16,346,977\n",
            "Trainable params: 16,346,977\n",
            "Non-trainable params: 0\n",
            "_________________________________________________________________\n",
            "Train on 1600000 samples, validate on 400000 samples\n",
            "Epoch 1/2\n",
            "1600000/1600000 [==============================] - 236s 147us/step - loss: 0.3657 - acc: 0.8334 - val_loss: 0.3298 - val_acc: 0.8528\n",
            "Epoch 2/2\n",
            "1600000/1600000 [==============================] - 230s 144us/step - loss: 0.3074 - acc: 0.8656 - val_loss: 0.3245 - val_acc: 0.8550\n",
            "500000/500000 [==============================] - 52s 104us/step\n",
            "\n",
            "acc: 85.40%\n"
          ],
          "name": "stdout"
        }
      ]
    },
    {
      "metadata": {
        "colab_type": "code",
        "id": "Bi_Tz7-uEcf6",
        "colab": {}
      },
      "cell_type": "code",
      "source": [
        "# from keras.models import load_model   \n",
        "\n",
        "# accuracies = []\n",
        "# for i in range(1,epochs+1):\n",
        "#   path = 'weights.'+str(i)+'.hdf5'\n",
        "#   model = load_model(path)\n",
        "#   result = model.evaluate(X_test, y_test, verbose=0)\n",
        "#   accuracies.append(result[1])\n",
        "  \n",
        "# accuracies"
      ],
      "execution_count": 0,
      "outputs": []
    },
    {
      "metadata": {
        "colab_type": "code",
        "id": "h-lv7XuhIbv3",
        "outputId": "ffbf7c49-46b3-4cde-c801-d2b3fffaa684",
        "colab": {
          "base_uri": "https://localhost:8080/",
          "height": 571
        }
      },
      "cell_type": "code",
      "source": [
        "# summarize history for accuracy\n",
        "plt.plot(history.history['acc'])\n",
        "plt.plot(history.history['val_acc'])\n",
        "plt.title('model accuracy')\n",
        "plt.ylabel('accuracy')\n",
        "plt.xlabel('epoch')\n",
        "plt.legend(['train', 'test'], loc='upper left')\n",
        "plt.show()\n",
        "# summarize history for loss\n",
        "plt.plot(history.history['loss'])\n",
        "plt.plot(history.history['val_loss'])\n",
        "plt.title('model loss')\n",
        "plt.ylabel('loss')\n",
        "plt.xlabel('epoch')\n",
        "plt.legend(['train', 'test'], loc='upper left')\n",
        "plt.show()"
      ],
      "execution_count": 0,
      "outputs": [
        {
          "output_type": "display_data",
          "data": {
            "image/png": "[encoded data removed]",
            "text/plain": [
              "<matplotlib.figure.Figure at 0x7ffaf1e19828>"
            ]
          },
          "metadata": {
            "tags": []
          }
        },
        {
          "output_type": "display_data",
          "data": {
            "image/png": "[encoded data removed]",
            "text/plain": [
              "<matplotlib.figure.Figure at 0x7ffaeebebdd8>"
            ]
          },
          "metadata": {
            "tags": []
          }
        }
      ]
    },
    {
      "metadata": {
        "colab_type": "code",
        "id": "9-tGM1V_Iyvf",
        "colab": {}
      },
      "cell_type": "code",
      "source": [
        ""
      ],
      "execution_count": 0,
      "outputs": []
    }
  ]
}