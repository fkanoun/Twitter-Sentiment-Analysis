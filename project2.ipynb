{
  "nbformat": 4,
  "nbformat_minor": 0,
  "metadata": {
    "colab": {
      "name": "project2.ipynb",
      "version": "0.3.2",
      "provenance": [],
      "toc_visible": true
    },
    "kernelspec": {
      "name": "python3",
      "display_name": "Python 3"
    },
    "accelerator": "GPU"
  },
  "cells": [
    {
      "metadata": {
        "id": "EI-__XxCnyAZ",
        "colab_type": "code",
        "colab": {}
      },
      "cell_type": "code",
      "source": [
        "import os\n",
        "import matplotlib.pyplot as plt\n",
        "%matplotlib inline\n",
        "import numpy as np\n",
        "import pandas as pd\n",
        "\n",
        "from keras.preprocessing.text import Tokenizer\n",
        "from keras.preprocessing import sequence\n",
        "\n",
        "from keras.models import Sequential\n",
        "from keras.layers import Dense, Flatten, LSTM, Conv1D, MaxPooling1D, Dropout, Activation\n",
        "from keras.layers.embeddings import Embedding\n",
        "\n"
      ],
      "execution_count": 0,
      "outputs": []
    },
    {
      "metadata": {
        "id": "lODwNtIznyAg",
        "colab_type": "code",
        "colab": {}
      },
      "cell_type": "code",
      "source": [
        "# data_folder = './twitter-datasets/'\n",
        "data_folder = './'\n",
        "\n",
        "\n",
        "# Reading the data\n",
        "positive_path = os.path.join(data_folder,'train_pos_full.txt')\n",
        "negative_path = os.path.join(data_folder,'train_neg_full.txt')"
      ],
      "execution_count": 0,
      "outputs": []
    },
    {
      "metadata": {
        "id": "aFXbM7xNnyAj",
        "colab_type": "code",
        "colab": {}
      },
      "cell_type": "code",
      "source": [
        "lines_positive = [line.rstrip('\\n') for line in open(positive_path)]\n",
        "lines_negative = [line.rstrip('\\n') for line in open(negative_path)]"
      ],
      "execution_count": 0,
      "outputs": []
    },
    {
      "metadata": {
        "id": "pgXY0XienyAl",
        "colab_type": "text"
      },
      "cell_type": "markdown",
      "source": [
        "# Data preparation"
      ]
    },
    {
      "metadata": {
        "id": "7rkgBO-LnyAn",
        "colab_type": "text"
      },
      "cell_type": "markdown",
      "source": [
        "## Create DF"
      ]
    },
    {
      "metadata": {
        "id": "sDz8kpq0nyAn",
        "colab_type": "code",
        "outputId": "32c7c895-1fc8-4ee5-af31-cd962e8d34f9",
        "colab": {
          "base_uri": "https://localhost:8080/",
          "height": 204
        }
      },
      "cell_type": "code",
      "source": [
        "# Create dataFrame from positive tweets and give them value 1 as a sentiment\n",
        "data_pos = pd.DataFrame({\"tweets\": lines_positive,\n",
        "                      \"sentiment\":np.ones(len(lines_positive))\n",
        "                      })\n",
        "\n",
        "# Create dataFrame from negative tweets and give them value 0 as a sentiment\n",
        "data_neg = pd.DataFrame({\"tweets\": lines_negative,\n",
        "                      \"sentiment\":np.zeros(len(lines_negative))\n",
        "                      })\n",
        "# Concat both of them\n",
        "data = pd.concat([data_pos,data_neg],axis=0).reset_index().drop(columns=['index'])\n",
        "\n",
        "# Shuffle everything so that we don't have all the positives in one cluster and all the negatives in another\n",
        "data = data.sample(frac=1).reset_index(drop=True)\n",
        "data.head()"
      ],
      "execution_count": 0,
      "outputs": [
        {
          "output_type": "execute_result",
          "data": {
            "text/html": [
              "<div>\n",
              "<style scoped>\n",
              "    .dataframe tbody tr th:only-of-type {\n",
              "        vertical-align: middle;\n",
              "    }\n",
              "\n",
              "    .dataframe tbody tr th {\n",
              "        vertical-align: top;\n",
              "    }\n",
              "\n",
              "    .dataframe thead th {\n",
              "        text-align: right;\n",
              "    }\n",
              "</style>\n",
              "<table border=\"1\" class=\"dataframe\">\n",
              "  <thead>\n",
              "    <tr style=\"text-align: right;\">\n",
              "      <th></th>\n",
              "      <th>sentiment</th>\n",
              "      <th>tweets</th>\n",
              "    </tr>\n",
              "  </thead>\n",
              "  <tbody>\n",
              "    <tr>\n",
              "      <th>0</th>\n",
              "      <td>1.0</td>\n",
              "      <td>&lt;user&gt; &lt;user&gt; i saw my winston is a better nin...</td>\n",
              "    </tr>\n",
              "    <tr>\n",
              "      <th>1</th>\n",
              "      <td>0.0</td>\n",
              "      <td>christians &amp; money ( 1 a biblically-based guid...</td>\n",
              "    </tr>\n",
              "    <tr>\n",
              "      <th>2</th>\n",
              "      <td>1.0</td>\n",
              "      <td>worst student but at least im a good teacher #...</td>\n",
              "    </tr>\n",
              "    <tr>\n",
              "      <th>3</th>\n",
              "      <td>0.0</td>\n",
              "      <td>goodmorning tweeps - you know the only bad thi...</td>\n",
              "    </tr>\n",
              "    <tr>\n",
              "      <th>4</th>\n",
              "      <td>1.0</td>\n",
              "      <td>plumbing issues ... need i say more ? . please...</td>\n",
              "    </tr>\n",
              "  </tbody>\n",
              "</table>\n",
              "</div>"
            ],
            "text/plain": [
              "   sentiment                                             tweets\n",
              "0        1.0  <user> <user> i saw my winston is a better nin...\n",
              "1        0.0  christians & money ( 1 a biblically-based guid...\n",
              "2        1.0  worst student but at least im a good teacher #...\n",
              "3        0.0  goodmorning tweeps - you know the only bad thi...\n",
              "4        1.0  plumbing issues ... need i say more ? . please..."
            ]
          },
          "metadata": {
            "tags": []
          },
          "execution_count": 5
        }
      ]
    },
    {
      "metadata": {
        "id": "9l5jQ-j6nyAr",
        "colab_type": "text"
      },
      "cell_type": "markdown",
      "source": [
        "## Clean up the text"
      ]
    },
    {
      "metadata": {
        "id": "rGRDa3zDnyAs",
        "colab_type": "code",
        "outputId": "b61d7a44-d8d1-425b-c820-95567ae91c1a",
        "colab": {
          "base_uri": "https://localhost:8080/",
          "height": 204
        }
      },
      "cell_type": "code",
      "source": [
        "# Remove <anything> from tweets.\n",
        "data['tweets'].replace(regex=True,inplace=True,to_replace=r'<.*?>',value=r'')\n",
        "data.head()"
      ],
      "execution_count": 0,
      "outputs": [
        {
          "output_type": "execute_result",
          "data": {
            "text/html": [
              "<div>\n",
              "<style scoped>\n",
              "    .dataframe tbody tr th:only-of-type {\n",
              "        vertical-align: middle;\n",
              "    }\n",
              "\n",
              "    .dataframe tbody tr th {\n",
              "        vertical-align: top;\n",
              "    }\n",
              "\n",
              "    .dataframe thead th {\n",
              "        text-align: right;\n",
              "    }\n",
              "</style>\n",
              "<table border=\"1\" class=\"dataframe\">\n",
              "  <thead>\n",
              "    <tr style=\"text-align: right;\">\n",
              "      <th></th>\n",
              "      <th>sentiment</th>\n",
              "      <th>tweets</th>\n",
              "    </tr>\n",
              "  </thead>\n",
              "  <tbody>\n",
              "    <tr>\n",
              "      <th>0</th>\n",
              "      <td>1.0</td>\n",
              "      <td>i saw my winston is a better ninja than your...</td>\n",
              "    </tr>\n",
              "    <tr>\n",
              "      <th>1</th>\n",
              "      <td>0.0</td>\n",
              "      <td>christians &amp; money ( 1 a biblically-based guid...</td>\n",
              "    </tr>\n",
              "    <tr>\n",
              "      <th>2</th>\n",
              "      <td>1.0</td>\n",
              "      <td>worst student but at least im a good teacher #...</td>\n",
              "    </tr>\n",
              "    <tr>\n",
              "      <th>3</th>\n",
              "      <td>0.0</td>\n",
              "      <td>goodmorning tweeps - you know the only bad thi...</td>\n",
              "    </tr>\n",
              "    <tr>\n",
              "      <th>4</th>\n",
              "      <td>1.0</td>\n",
              "      <td>plumbing issues ... need i say more ? . please...</td>\n",
              "    </tr>\n",
              "  </tbody>\n",
              "</table>\n",
              "</div>"
            ],
            "text/plain": [
              "   sentiment                                             tweets\n",
              "0        1.0    i saw my winston is a better ninja than your...\n",
              "1        0.0  christians & money ( 1 a biblically-based guid...\n",
              "2        1.0  worst student but at least im a good teacher #...\n",
              "3        0.0  goodmorning tweeps - you know the only bad thi...\n",
              "4        1.0  plumbing issues ... need i say more ? . please..."
            ]
          },
          "metadata": {
            "tags": []
          },
          "execution_count": 6
        }
      ]
    },
    {
      "metadata": {
        "id": "FyRzwQBKnyAu",
        "colab_type": "code",
        "colab": {}
      },
      "cell_type": "code",
      "source": [
        "X = data['tweets'].tolist()\n",
        "y =  data['sentiment'].tolist()"
      ],
      "execution_count": 0,
      "outputs": []
    },
    {
      "metadata": {
        "id": "UMjhi3-wnyAy",
        "colab_type": "text"
      },
      "cell_type": "markdown",
      "source": [
        "## Use tokenizer\n",
        "### From words to numbers"
      ]
    },
    {
      "metadata": {
        "id": "_OTXFFPDnyA0",
        "colab_type": "code",
        "colab": {}
      },
      "cell_type": "code",
      "source": [
        "# map words to numbers\n",
        "vocab_size = 100000\n",
        "tokenizer = Tokenizer(num_words=vocab_size)\n",
        "tokenizer.fit_on_texts(X)"
      ],
      "execution_count": 0,
      "outputs": []
    },
    {
      "metadata": {
        "id": "qNXNu_mgnyA3",
        "colab_type": "code",
        "outputId": "6e2d3060-1b8b-46aa-f61d-1820f0954a9d",
        "colab": {
          "base_uri": "https://localhost:8080/",
          "height": 34
        }
      },
      "cell_type": "code",
      "source": [
        "num_words = len(tokenizer.word_index)\n",
        "num_words"
      ],
      "execution_count": 0,
      "outputs": [
        {
          "output_type": "execute_result",
          "data": {
            "text/plain": [
              "507952"
            ]
          },
          "metadata": {
            "tags": []
          },
          "execution_count": 9
        }
      ]
    },
    {
      "metadata": {
        "id": "pdKLhlKLnyA_",
        "colab_type": "code",
        "colab": {}
      },
      "cell_type": "code",
      "source": [
        "data['length'] = data['tweets'].str.split().apply(len)\n",
        "max_tokens = data['length'].max()\n",
        "max_tokens = int(max_tokens/2)\n",
        "\n",
        "X = np.array(sequence.pad_sequences(tokenizer.texts_to_sequences(X), maxlen=max_tokens, padding='pre'))\n",
        "\n",
        "# Split train test\n",
        "from sklearn.model_selection import train_test_split\n",
        "X_train, X_test, y_train, y_test = train_test_split(X, y, test_size=0.2, random_state=42)\n"
      ],
      "execution_count": 0,
      "outputs": []
    },
    {
      "metadata": {
        "id": "gbpTZCZ7nyBP",
        "colab_type": "text"
      },
      "cell_type": "markdown",
      "source": [
        "### From numbers to words"
      ]
    },
    {
      "metadata": {
        "id": "Dvlgrqg4nyBQ",
        "colab_type": "code",
        "colab": {}
      },
      "cell_type": "code",
      "source": [
        "def numbers_to_string(number_array, tokenizer):\n",
        "    \n",
        "    ''' \n",
        "    Transforms tokens to words\n",
        "    :param number_array: The numbers array to transform\n",
        "    :param tokenizer: The tokenizer used\n",
        "\n",
        "    :return: the original text\n",
        "    :rtype: String\n",
        "    '''\n",
        "        \n",
        "    indices = tokenizer.word_index\n",
        "    # Create a dict that mapes numbers to their respective words\n",
        "    inverse_map = dict(zip(indices.values(), indices.keys()))\n",
        "        \n",
        "    # Maps the numbers back to words.\n",
        "    words = []\n",
        "    for number in number_array:\n",
        "        if number != 0: # !=0 is to remove the padding\n",
        "            words.append(inverse_map[number])\n",
        "    \n",
        "    # Concatenate all words.\n",
        "    text = \" \".join(words)\n",
        "\n",
        "    return text"
      ],
      "execution_count": 0,
      "outputs": []
    },
    {
      "metadata": {
        "id": "oWa8epd1nyBV",
        "colab_type": "code",
        "outputId": "3a8c35cc-8e81-4656-bc8b-6c7ce17ff22c",
        "colab": {
          "base_uri": "https://localhost:8080/",
          "height": 34
        }
      },
      "cell_type": "code",
      "source": [
        "numbers_to_string(X_train[0],tokenizer)"
      ],
      "execution_count": 0,
      "outputs": [
        {
          "output_type": "execute_result",
          "data": {
            "text/plain": [
              "\"i wanna go to a concert where's summer argh\""
            ]
          },
          "metadata": {
            "tags": []
          },
          "execution_count": 12
        }
      ]
    },
    {
      "metadata": {
        "id": "A3J-Vy2YnyBa",
        "colab_type": "text"
      },
      "cell_type": "markdown",
      "source": [
        "# Neural Network"
      ]
    },
    {
      "metadata": {
        "id": "IrFZSBwx-fTj",
        "colab_type": "code",
        "colab": {}
      },
      "cell_type": "code",
      "source": [
        "from keras.callbacks import ModelCheckpoint"
      ],
      "execution_count": 0,
      "outputs": []
    },
    {
      "metadata": {
        "id": "Kbk-udEWnyBc",
        "colab_type": "code",
        "outputId": "eabbf425-1798-46a7-ce42-dde93e94fa88",
        "colab": {
          "base_uri": "https://localhost:8080/",
          "height": 1023
        }
      },
      "cell_type": "code",
      "source": [
        "model = Sequential()\n",
        "\n",
        "model.add(Embedding(num_words, 32, input_length=max_tokens))\n",
        "model.add(Conv1D(filters=128, kernel_size=5, padding='same', activation='relu'))\n",
        "model.add(MaxPooling1D(pool_size=2))\n",
        "model.add(Dropout(0.2))\n",
        "model.add(Conv1D(filters=64, kernel_size=6, padding='same', activation='relu'))\n",
        "model.add(MaxPooling1D(pool_size=2))\n",
        "model.add(Dropout(0.2))\n",
        "model.add(Conv1D(filters=32, kernel_size=7, padding='same', activation='relu'))\n",
        "model.add(MaxPooling1D(pool_size=2))\n",
        "model.add(Dropout(0.2))\n",
        "model.add(Conv1D(filters=32, kernel_size=8, padding='same', activation='relu'))\n",
        "model.add(MaxPooling1D(pool_size=2))\n",
        "model.add(Dropout(0.2))\n",
        "model.add(Flatten())\n",
        "model.add(Dense(1,activation='sigmoid'))\n",
        "\n",
        "model.compile(loss='binary_crossentropy', optimizer='adam', metrics=['accuracy'])\n",
        "model.summary()\n",
        "\n",
        "# Saves the model after each epoch to study overfitting and optimal epochs\n",
        "checkpointer = ModelCheckpoint('weights.{epoch:01d}.hdf5', monitor='val_loss', verbose=0, save_best_only=True, save_weights_only=False, mode='auto', period=1)\n",
        "\n",
        "epochs = 10\n",
        "\n",
        "history = model.fit(X_train, y_train, batch_size=1024, verbose=1, validation_split=0.2, epochs=epochs, callbacks=[checkpointer])\n"
      ],
      "execution_count": 0,
      "outputs": [
        {
          "output_type": "stream",
          "text": [
            "_________________________________________________________________\n",
            "Layer (type)                 Output Shape              Param #   \n",
            "=================================================================\n",
            "embedding_2 (Embedding)      (None, 63, 32)            16254464  \n",
            "_________________________________________________________________\n",
            "conv1d_5 (Conv1D)            (None, 63, 128)           20608     \n",
            "_________________________________________________________________\n",
            "max_pooling1d_5 (MaxPooling1 (None, 31, 128)           0         \n",
            "_________________________________________________________________\n",
            "dropout_5 (Dropout)          (None, 31, 128)           0         \n",
            "_________________________________________________________________\n",
            "conv1d_6 (Conv1D)            (None, 31, 64)            49216     \n",
            "_________________________________________________________________\n",
            "max_pooling1d_6 (MaxPooling1 (None, 15, 64)            0         \n",
            "_________________________________________________________________\n",
            "dropout_6 (Dropout)          (None, 15, 64)            0         \n",
            "_________________________________________________________________\n",
            "conv1d_7 (Conv1D)            (None, 15, 32)            14368     \n",
            "_________________________________________________________________\n",
            "max_pooling1d_7 (MaxPooling1 (None, 7, 32)             0         \n",
            "_________________________________________________________________\n",
            "dropout_7 (Dropout)          (None, 7, 32)             0         \n",
            "_________________________________________________________________\n",
            "conv1d_8 (Conv1D)            (None, 7, 32)             8224      \n",
            "_________________________________________________________________\n",
            "max_pooling1d_8 (MaxPooling1 (None, 3, 32)             0         \n",
            "_________________________________________________________________\n",
            "dropout_8 (Dropout)          (None, 3, 32)             0         \n",
            "_________________________________________________________________\n",
            "flatten_2 (Flatten)          (None, 96)                0         \n",
            "_________________________________________________________________\n",
            "dense_2 (Dense)              (None, 1)                 97        \n",
            "=================================================================\n",
            "Total params: 16,346,977\n",
            "Trainable params: 16,346,977\n",
            "Non-trainable params: 0\n",
            "_________________________________________________________________\n",
            "Train on 1600000 samples, validate on 400000 samples\n",
            "Epoch 1/10\n",
            "1600000/1600000 [==============================] - 105s 66us/step - loss: 0.3808 - acc: 0.8241 - val_loss: 0.3391 - val_acc: 0.8474\n",
            "Epoch 2/10\n",
            "1600000/1600000 [==============================] - 103s 64us/step - loss: 0.3131 - acc: 0.8622 - val_loss: 0.3296 - val_acc: 0.8528\n",
            "Epoch 3/10\n",
            "1600000/1600000 [==============================] - 103s 65us/step - loss: 0.2792 - acc: 0.8796 - val_loss: 0.3362 - val_acc: 0.8527\n",
            "Epoch 4/10\n",
            "1600000/1600000 [==============================] - 103s 65us/step - loss: 0.2520 - acc: 0.8928 - val_loss: 0.3493 - val_acc: 0.8510\n",
            "Epoch 5/10\n",
            "1600000/1600000 [==============================] - 104s 65us/step - loss: 0.2305 - acc: 0.9024 - val_loss: 0.3836 - val_acc: 0.8475\n",
            "Epoch 6/10\n",
            "1600000/1600000 [==============================] - 103s 65us/step - loss: 0.2146 - acc: 0.9093 - val_loss: 0.4159 - val_acc: 0.8474\n",
            "Epoch 7/10\n",
            "1600000/1600000 [==============================] - 103s 64us/step - loss: 0.2025 - acc: 0.9144 - val_loss: 0.4300 - val_acc: 0.8453\n",
            "Epoch 8/10\n",
            "1600000/1600000 [==============================] - 103s 65us/step - loss: 0.1939 - acc: 0.9182 - val_loss: 0.4601 - val_acc: 0.8451\n",
            "Epoch 9/10\n",
            "1600000/1600000 [==============================] - 104s 65us/step - loss: 0.1863 - acc: 0.9214 - val_loss: 0.4795 - val_acc: 0.8433\n",
            "Epoch 10/10\n",
            "1600000/1600000 [==============================] - 104s 65us/step - loss: 0.1804 - acc: 0.9240 - val_loss: 0.5066 - val_acc: 0.8441\n"
          ],
          "name": "stdout"
        }
      ]
    },
    {
      "metadata": {
        "id": "Bi_Tz7-uEcf6",
        "colab_type": "code",
        "colab": {}
      },
      "cell_type": "code",
      "source": [
        "# from keras.models import load_model   \n",
        "\n",
        "# accuracies = []\n",
        "# for i in range(1,epochs+1):\n",
        "#   path = 'weights.'+str(i)+'.hdf5'\n",
        "#   model = load_model(path)\n",
        "#   result = model.evaluate(X_test, y_test, verbose=0)\n",
        "#   accuracies.append(result[1])\n",
        "  \n",
        "# accuracies"
      ],
      "execution_count": 0,
      "outputs": []
    },
    {
      "metadata": {
        "id": "h-lv7XuhIbv3",
        "colab_type": "code",
        "outputId": "ffbf7c49-46b3-4cde-c801-d2b3fffaa684",
        "colab": {
          "base_uri": "https://localhost:8080/",
          "height": 571
        }
      },
      "cell_type": "code",
      "source": [
        "# summarize history for accuracy\n",
        "plt.plot(history.history['acc'])\n",
        "plt.plot(history.history['val_acc'])\n",
        "plt.title('model accuracy')\n",
        "plt.ylabel('accuracy')\n",
        "plt.xlabel('epoch')\n",
        "plt.legend(['train', 'test'], loc='upper left')\n",
        "plt.show()\n",
        "# summarize history for loss\n",
        "plt.plot(history.history['loss'])\n",
        "plt.plot(history.history['val_loss'])\n",
        "plt.title('model loss')\n",
        "plt.ylabel('loss')\n",
        "plt.xlabel('epoch')\n",
        "plt.legend(['train', 'test'], loc='upper left')\n",
        "plt.show()"
      ],
      "execution_count": 0,
      "outputs": [
        {
          "output_type": "display_data",
          "data": {
            "image/png": "[encoded data removed]",
            "text/plain": [
              "<matplotlib.figure.Figure at 0x7ffaf1e19828>"
            ]
          },
          "metadata": {
            "tags": []
          }
        },
        {
          "output_type": "display_data",
          "data": {
            "image/png": "[encoded data removed]",
            "text/plain": [
              "<matplotlib.figure.Figure at 0x7ffaeebebdd8>"
            ]
          },
          "metadata": {
            "tags": []
          }
        }
      ]
    },
    {
      "metadata": {
        "id": "9-tGM1V_Iyvf",
        "colab_type": "code",
        "colab": {}
      },
      "cell_type": "code",
      "source": [
        ""
      ],
      "execution_count": 0,
      "outputs": []
    }
  ]
}