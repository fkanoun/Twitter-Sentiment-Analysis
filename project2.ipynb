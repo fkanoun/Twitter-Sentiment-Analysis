{
  "nbformat": 4,
  "nbformat_minor": 0,
  "metadata": {
    "colab": {
      "name": "project2.ipynb",
      "version": "0.3.2",
      "provenance": [],
      "toc_visible": true
    },
    "kernelspec": {
      "name": "python3",
      "display_name": "Python 3"
    },
    "accelerator": "GPU"
  },
  "cells": [
    {
      "metadata": {
        "id": "EI-__XxCnyAZ",
        "colab_type": "code",
        "colab": {
          "base_uri": "https://localhost:8080/",
          "height": 34
        },
        "outputId": "f130e94d-9115-4b0f-b186-ba78d9be34fe"
      },
      "cell_type": "code",
      "source": [
        "import os\n",
        "import matplotlib.pyplot as plt\n",
        "%matplotlib inline\n",
        "import numpy as np\n",
        "import pandas as pd\n",
        "\n",
        "from keras.preprocessing.text import Tokenizer\n",
        "from keras.preprocessing import sequence\n",
        "\n",
        "from keras.models import Sequential\n",
        "from keras.layers import Dense, Flatten, LSTM, Conv1D, MaxPooling1D, Dropout, Activation\n",
        "from keras.layers.embeddings import Embedding\n",
        "\n"
      ],
      "execution_count": 1,
      "outputs": [
        {
          "output_type": "stream",
          "text": [
            "Using TensorFlow backend.\n"
          ],
          "name": "stderr"
        }
      ]
    },
    {
      "metadata": {
        "id": "lODwNtIznyAg",
        "colab_type": "code",
        "colab": {}
      },
      "cell_type": "code",
      "source": [
        "# data_folder = './twitter-datasets/'\n",
        "data_folder = './'\n",
        "\n",
        "\n",
        "# Reading the data\n",
        "positive_path = os.path.join(data_folder,'train_pos.txt')\n",
        "negative_path = os.path.join(data_folder,'train_neg.txt')"
      ],
      "execution_count": 0,
      "outputs": []
    },
    {
      "metadata": {
        "id": "aFXbM7xNnyAj",
        "colab_type": "code",
        "colab": {}
      },
      "cell_type": "code",
      "source": [
        "lines_positive = [line.rstrip('\\n') for line in open(positive_path)]\n",
        "lines_negative = [line.rstrip('\\n') for line in open(negative_path)]"
      ],
      "execution_count": 0,
      "outputs": []
    },
    {
      "metadata": {
        "id": "pgXY0XienyAl",
        "colab_type": "text"
      },
      "cell_type": "markdown",
      "source": [
        "# Data preparation"
      ]
    },
    {
      "metadata": {
        "id": "7rkgBO-LnyAn",
        "colab_type": "text"
      },
      "cell_type": "markdown",
      "source": [
        "## Create DF"
      ]
    },
    {
      "metadata": {
        "id": "sDz8kpq0nyAn",
        "colab_type": "code",
        "colab": {
          "base_uri": "https://localhost:8080/",
          "height": 204
        },
        "outputId": "861337ae-1d6f-4428-f8e0-68347c7ae00d"
      },
      "cell_type": "code",
      "source": [
        "# Create dataFrame from positive tweets and give them value 1 as a sentiment\n",
        "data_pos = pd.DataFrame({\"tweets\": lines_positive,\n",
        "                      \"sentiment\":np.ones(len(lines_positive))\n",
        "                      })\n",
        "\n",
        "# Create dataFrame from negative tweets and give them value 0 as a sentiment\n",
        "data_neg = pd.DataFrame({\"tweets\": lines_negative,\n",
        "                      \"sentiment\":np.zeros(len(lines_negative))\n",
        "                      })\n",
        "# Concat both of them\n",
        "data = pd.concat([data_pos,data_neg],axis=0).reset_index().drop(columns=['index'])\n",
        "\n",
        "# Shuffle everything so that we don't have all the positives in one cluster and all the negatives in another\n",
        "data = data.sample(frac=1).reset_index(drop=True)\n",
        "data.head()"
      ],
      "execution_count": 4,
      "outputs": [
        {
          "output_type": "execute_result",
          "data": {
            "text/html": [
              "<div>\n",
              "<style scoped>\n",
              "    .dataframe tbody tr th:only-of-type {\n",
              "        vertical-align: middle;\n",
              "    }\n",
              "\n",
              "    .dataframe tbody tr th {\n",
              "        vertical-align: top;\n",
              "    }\n",
              "\n",
              "    .dataframe thead th {\n",
              "        text-align: right;\n",
              "    }\n",
              "</style>\n",
              "<table border=\"1\" class=\"dataframe\">\n",
              "  <thead>\n",
              "    <tr style=\"text-align: right;\">\n",
              "      <th></th>\n",
              "      <th>sentiment</th>\n",
              "      <th>tweets</th>\n",
              "    </tr>\n",
              "  </thead>\n",
              "  <tbody>\n",
              "    <tr>\n",
              "      <th>0</th>\n",
              "      <td>1.0</td>\n",
              "      <td>i have 2 real bestfriends &amp; 1 of them is my bl...</td>\n",
              "    </tr>\n",
              "    <tr>\n",
              "      <th>1</th>\n",
              "      <td>0.0</td>\n",
              "      <td>david's backgammon 6.1 - entertain yourself at...</td>\n",
              "    </tr>\n",
              "    <tr>\n",
              "      <th>2</th>\n",
              "      <td>1.0</td>\n",
              "      <td>wondering why i'm still awake ! :/ tired but n...</td>\n",
              "    </tr>\n",
              "    <tr>\n",
              "      <th>3</th>\n",
              "      <td>1.0</td>\n",
              "      <td>&lt;user&gt; be careful ! have a safe flight ! x</td>\n",
              "    </tr>\n",
              "    <tr>\n",
              "      <th>4</th>\n",
              "      <td>1.0</td>\n",
              "      <td>can't wait till that drake concert</td>\n",
              "    </tr>\n",
              "  </tbody>\n",
              "</table>\n",
              "</div>"
            ],
            "text/plain": [
              "   sentiment                                             tweets\n",
              "0        1.0  i have 2 real bestfriends & 1 of them is my bl...\n",
              "1        0.0  david's backgammon 6.1 - entertain yourself at...\n",
              "2        1.0  wondering why i'm still awake ! :/ tired but n...\n",
              "3        1.0         <user> be careful ! have a safe flight ! x\n",
              "4        1.0                 can't wait till that drake concert"
            ]
          },
          "metadata": {
            "tags": []
          },
          "execution_count": 4
        }
      ]
    },
    {
      "metadata": {
        "id": "9l5jQ-j6nyAr",
        "colab_type": "text"
      },
      "cell_type": "markdown",
      "source": [
        "## Clean up the text"
      ]
    },
    {
      "metadata": {
        "id": "rGRDa3zDnyAs",
        "colab_type": "code",
        "colab": {
          "base_uri": "https://localhost:8080/",
          "height": 204
        },
        "outputId": "e50d724e-dba8-4040-ad2d-2676074716bf"
      },
      "cell_type": "code",
      "source": [
        "# Remove <anything> from tweets.\n",
        "data['tweets'].replace(regex=True,inplace=True,to_replace=r'<.*?>',value=r'')\n",
        "data.head()"
      ],
      "execution_count": 5,
      "outputs": [
        {
          "output_type": "execute_result",
          "data": {
            "text/html": [
              "<div>\n",
              "<style scoped>\n",
              "    .dataframe tbody tr th:only-of-type {\n",
              "        vertical-align: middle;\n",
              "    }\n",
              "\n",
              "    .dataframe tbody tr th {\n",
              "        vertical-align: top;\n",
              "    }\n",
              "\n",
              "    .dataframe thead th {\n",
              "        text-align: right;\n",
              "    }\n",
              "</style>\n",
              "<table border=\"1\" class=\"dataframe\">\n",
              "  <thead>\n",
              "    <tr style=\"text-align: right;\">\n",
              "      <th></th>\n",
              "      <th>sentiment</th>\n",
              "      <th>tweets</th>\n",
              "    </tr>\n",
              "  </thead>\n",
              "  <tbody>\n",
              "    <tr>\n",
              "      <th>0</th>\n",
              "      <td>1.0</td>\n",
              "      <td>i have 2 real bestfriends &amp; 1 of them is my bl...</td>\n",
              "    </tr>\n",
              "    <tr>\n",
              "      <th>1</th>\n",
              "      <td>0.0</td>\n",
              "      <td>david's backgammon 6.1 - entertain yourself at...</td>\n",
              "    </tr>\n",
              "    <tr>\n",
              "      <th>2</th>\n",
              "      <td>1.0</td>\n",
              "      <td>wondering why i'm still awake ! :/ tired but n...</td>\n",
              "    </tr>\n",
              "    <tr>\n",
              "      <th>3</th>\n",
              "      <td>1.0</td>\n",
              "      <td>be careful ! have a safe flight ! x</td>\n",
              "    </tr>\n",
              "    <tr>\n",
              "      <th>4</th>\n",
              "      <td>1.0</td>\n",
              "      <td>can't wait till that drake concert</td>\n",
              "    </tr>\n",
              "  </tbody>\n",
              "</table>\n",
              "</div>"
            ],
            "text/plain": [
              "   sentiment                                             tweets\n",
              "0        1.0  i have 2 real bestfriends & 1 of them is my bl...\n",
              "1        0.0  david's backgammon 6.1 - entertain yourself at...\n",
              "2        1.0  wondering why i'm still awake ! :/ tired but n...\n",
              "3        1.0                be careful ! have a safe flight ! x\n",
              "4        1.0                 can't wait till that drake concert"
            ]
          },
          "metadata": {
            "tags": []
          },
          "execution_count": 5
        }
      ]
    },
    {
      "metadata": {
        "id": "FyRzwQBKnyAu",
        "colab_type": "code",
        "colab": {}
      },
      "cell_type": "code",
      "source": [
        "X = data['tweets'].tolist()\n",
        "y =  data['sentiment'].tolist()"
      ],
      "execution_count": 0,
      "outputs": []
    },
    {
      "metadata": {
        "id": "UMjhi3-wnyAy",
        "colab_type": "text"
      },
      "cell_type": "markdown",
      "source": [
        "## Use tokenizer\n",
        "### From words to numbers"
      ]
    },
    {
      "metadata": {
        "id": "_OTXFFPDnyA0",
        "colab_type": "code",
        "colab": {}
      },
      "cell_type": "code",
      "source": [
        "# map words to numbers\n",
        "vocab_size = 100000\n",
        "tokenizer = Tokenizer(num_words=vocab_size)\n",
        "tokenizer.fit_on_texts(X)"
      ],
      "execution_count": 0,
      "outputs": []
    },
    {
      "metadata": {
        "id": "qNXNu_mgnyA3",
        "colab_type": "code",
        "colab": {
          "base_uri": "https://localhost:8080/",
          "height": 34
        },
        "outputId": "bb05d5c8-a4eb-41d6-e289-a7c95b7f2119"
      },
      "cell_type": "code",
      "source": [
        "num_words = len(tokenizer.word_index)\n",
        "num_words"
      ],
      "execution_count": 61,
      "outputs": [
        {
          "output_type": "execute_result",
          "data": {
            "text/plain": [
              "103085"
            ]
          },
          "metadata": {
            "tags": []
          },
          "execution_count": 61
        }
      ]
    },
    {
      "metadata": {
        "id": "pdKLhlKLnyA_",
        "colab_type": "code",
        "colab": {}
      },
      "cell_type": "code",
      "source": [
        "data['length'] = data['tweets'].str.split().apply(len)\n",
        "max_tokens = data['length'].max()\n",
        "max_tokens = int(max_tokens/2)\n",
        "\n",
        "X = np.array(sequence.pad_sequences(tokenizer.texts_to_sequences(X), maxlen=max_tokens, padding='post'))\n",
        "\n",
        "# Split train test\n",
        "from sklearn.model_selection import train_test_split\n",
        "X_train, X_test, y_train, y_test = train_test_split(X, y, test_size=0.2, random_state=42)\n"
      ],
      "execution_count": 0,
      "outputs": []
    },
    {
      "metadata": {
        "id": "gbpTZCZ7nyBP",
        "colab_type": "text"
      },
      "cell_type": "markdown",
      "source": [
        "### From numbers to words"
      ]
    },
    {
      "metadata": {
        "id": "Dvlgrqg4nyBQ",
        "colab_type": "code",
        "colab": {}
      },
      "cell_type": "code",
      "source": [
        "def numbers_to_string(number_array, tokenizer):\n",
        "    \n",
        "    ''' \n",
        "    Transforms tokens to words\n",
        "    :param number_array: The numbers array to transform\n",
        "    :param tokenizer: The tokenizer used\n",
        "\n",
        "    :return: the original text\n",
        "    :rtype: String\n",
        "    '''\n",
        "        \n",
        "    indices = tokenizer.word_index\n",
        "    # Create a dict that mapes numbers to their respective words\n",
        "    inverse_map = dict(zip(indices.values(), indices.keys()))\n",
        "        \n",
        "    # Maps the numbers back to words.\n",
        "    words = []\n",
        "    for number in number_array:\n",
        "        if number != 0: # !=0 is to remove the padding\n",
        "            words.append(inverse_map[number])\n",
        "    \n",
        "    # Concatenate all words.\n",
        "    text = \" \".join(words)\n",
        "\n",
        "    return text"
      ],
      "execution_count": 0,
      "outputs": []
    },
    {
      "metadata": {
        "id": "oWa8epd1nyBV",
        "colab_type": "code",
        "colab": {
          "base_uri": "https://localhost:8080/",
          "height": 34
        },
        "outputId": "7b928fd2-c89c-4731-c6bb-013000fc7520"
      },
      "cell_type": "code",
      "source": [
        "numbers_to_string(X_train[0],tokenizer)"
      ],
      "execution_count": 64,
      "outputs": [
        {
          "output_type": "execute_result",
          "data": {
            "text/plain": [
              "\"bored and can't sleep\""
            ]
          },
          "metadata": {
            "tags": []
          },
          "execution_count": 64
        }
      ]
    },
    {
      "metadata": {
        "id": "A3J-Vy2YnyBa",
        "colab_type": "text"
      },
      "cell_type": "markdown",
      "source": [
        "# Neural Network"
      ]
    },
    {
      "metadata": {
        "id": "Kbk-udEWnyBc",
        "colab_type": "code",
        "colab": {
          "base_uri": "https://localhost:8080/",
          "height": 785
        },
        "outputId": "b7e1170d-a8cf-4c63-e530-347b81be4742"
      },
      "cell_type": "code",
      "source": [
        "model = Sequential()\n",
        "\n",
        "model.add(Embedding(num_words, 32, input_length=max_tokens))\n",
        "model.add(Conv1D(filters=128, kernel_size=5, padding='same', activation='relu'))\n",
        "model.add(MaxPooling1D(pool_size=2))\n",
        "model.add(Dropout(0.2))\n",
        "model.add(Conv1D(filters=64, kernel_size=6, padding='same', activation='relu'))\n",
        "model.add(MaxPooling1D(pool_size=2))\n",
        "model.add(Dropout(0.2))\n",
        "model.add(Conv1D(filters=32, kernel_size=7, padding='same', activation='relu'))\n",
        "model.add(MaxPooling1D(pool_size=2))\n",
        "model.add(Dropout(0.2))\n",
        "model.add(Conv1D(filters=32, kernel_size=8, padding='same', activation='relu'))\n",
        "model.add(MaxPooling1D(pool_size=2))\n",
        "model.add(Dropout(0.2))\n",
        "model.add(Flatten())\n",
        "model.add(Dense(1,activation='sigmoid'))\n",
        "\n",
        "model.compile(loss='binary_crossentropy', optimizer='adam', metrics=['accuracy'])\n",
        "model.summary()\n",
        "\n",
        "history = model.fit(X_train, y_train, batch_size=128, verbose=1, validation_split=0.2, epochs=3)\n"
      ],
      "execution_count": 66,
      "outputs": [
        {
          "output_type": "stream",
          "text": [
            "_________________________________________________________________\n",
            "Layer (type)                 Output Shape              Param #   \n",
            "=================================================================\n",
            "embedding_10 (Embedding)     (None, 31, 32)            3298720   \n",
            "_________________________________________________________________\n",
            "conv1d_37 (Conv1D)           (None, 31, 128)           20608     \n",
            "_________________________________________________________________\n",
            "max_pooling1d_37 (MaxPooling (None, 15, 128)           0         \n",
            "_________________________________________________________________\n",
            "dropout_37 (Dropout)         (None, 15, 128)           0         \n",
            "_________________________________________________________________\n",
            "conv1d_38 (Conv1D)           (None, 15, 64)            49216     \n",
            "_________________________________________________________________\n",
            "max_pooling1d_38 (MaxPooling (None, 7, 64)             0         \n",
            "_________________________________________________________________\n",
            "dropout_38 (Dropout)         (None, 7, 64)             0         \n",
            "_________________________________________________________________\n",
            "conv1d_39 (Conv1D)           (None, 7, 32)             14368     \n",
            "_________________________________________________________________\n",
            "max_pooling1d_39 (MaxPooling (None, 3, 32)             0         \n",
            "_________________________________________________________________\n",
            "dropout_39 (Dropout)         (None, 3, 32)             0         \n",
            "_________________________________________________________________\n",
            "conv1d_40 (Conv1D)           (None, 3, 32)             8224      \n",
            "_________________________________________________________________\n",
            "max_pooling1d_40 (MaxPooling (None, 1, 32)             0         \n",
            "_________________________________________________________________\n",
            "dropout_40 (Dropout)         (None, 1, 32)             0         \n",
            "_________________________________________________________________\n",
            "flatten_10 (Flatten)         (None, 32)                0         \n",
            "_________________________________________________________________\n",
            "dense_10 (Dense)             (None, 1)                 33        \n",
            "=================================================================\n",
            "Total params: 3,391,169\n",
            "Trainable params: 3,391,169\n",
            "Non-trainable params: 0\n",
            "_________________________________________________________________\n",
            "Train on 128000 samples, validate on 32000 samples\n",
            "Epoch 1/3\n",
            "128000/128000 [==============================] - 97s 760us/step - loss: 0.4478 - acc: 0.7837 - val_loss: 0.3947 - val_acc: 0.8137\n",
            "Epoch 2/3\n",
            "128000/128000 [==============================] - 95s 745us/step - loss: 0.3256 - acc: 0.8563 - val_loss: 0.3999 - val_acc: 0.8143\n",
            "Epoch 3/3\n",
            "128000/128000 [==============================] - 95s 746us/step - loss: 0.2422 - acc: 0.8978 - val_loss: 0.4761 - val_acc: 0.8107\n"
          ],
          "name": "stdout"
        }
      ]
    },
    {
      "metadata": {
        "id": "vX3E92rmnyBk",
        "colab_type": "code",
        "colab": {
          "base_uri": "https://localhost:8080/",
          "height": 34
        },
        "outputId": "6dd48d7c-7f34-46a6-c1dc-35d27a0296a6"
      },
      "cell_type": "code",
      "source": [
        "result = model.evaluate(X_test, y_test)"
      ],
      "execution_count": 67,
      "outputs": [
        {
          "output_type": "stream",
          "text": [
            "40000/40000 [==============================] - 5s 131us/step\n"
          ],
          "name": "stdout"
        }
      ]
    },
    {
      "metadata": {
        "id": "hEf2nWegnyBn",
        "colab_type": "code",
        "colab": {
          "base_uri": "https://localhost:8080/",
          "height": 34
        },
        "outputId": "b76d3a52-0615-4aa2-e38e-f813ad0ab48b"
      },
      "cell_type": "code",
      "source": [
        "print(\"Accuracy: {0:.2%}\".format(result[1]))"
      ],
      "execution_count": 68,
      "outputs": [
        {
          "output_type": "stream",
          "text": [
            "Accuracy: 81.75%\n"
          ],
          "name": "stdout"
        }
      ]
    },
    {
      "metadata": {
        "id": "_hq7X9ocnyBp",
        "colab_type": "code",
        "colab": {}
      },
      "cell_type": "code",
      "source": [
        ""
      ],
      "execution_count": 0,
      "outputs": []
    },
    {
      "metadata": {
        "id": "VT1kc8UInyBs",
        "colab_type": "code",
        "colab": {}
      },
      "cell_type": "code",
      "source": [
        ""
      ],
      "execution_count": 0,
      "outputs": []
    }
  ]
}